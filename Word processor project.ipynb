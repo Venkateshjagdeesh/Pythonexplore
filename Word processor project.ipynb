{
 "cells": [
  {
   "cell_type": "code",
   "execution_count": 1,
   "id": "91bcdbf4",
   "metadata": {},
   "outputs": [
    {
     "name": "stdout",
     "output_type": "stream",
     "text": [
      "Enter the file name:text.txt\n",
      "The entered file is: text.txt\n",
      "The first three frequently used words with their frequency are:\n",
      "Jan 352\n",
      "2008 324\n",
      "by 245\n",
      "The three less frequently used words with their frequency are:\n",
      "#38024 1\n",
      "\"Re-Use 1\n",
      "\"Duplicate 1\n",
      "The total number of words in the file are: 1232\n",
      "The total number of lines in the file are: 1909\n",
      "The total number of characters in the file are: 94625\n"
     ]
    }
   ],
   "source": [
    "File=input('Enter the file name:')                                          # File input\n",
    "try:                                                                        # Error handling\n",
    "    handle=open(File,'r')\n",
    "except:\n",
    "    print('The specified file cannot be found:',File)\n",
    "    quit()\n",
    "hist=dict()\n",
    "empty=list()\n",
    "count=0\n",
    "charactercount=0\n",
    "for lines in handle:                                                        # reading lines of file handle\n",
    "    for char in lines:\n",
    "        charactercount=charactercount+1\n",
    "    lineactual=lines.rstrip()                                               # stripping right spaces\n",
    "    wordcontainer=lineactual.split()\n",
    "    count=count+1\n",
    "    for var in wordcontainer:                                               # histogram of words and frequency creation\n",
    "        hist[var]=hist.get(var,0)+1        \n",
    "for k,v in hist.items():                                                    # creation of list of tuples\n",
    "    empty.append((v,k))\n",
    "final=sorted(empty,reverse=True)                                            # sorting to get the 1st three frequently used words\n",
    "print('The entered file is:',File)\n",
    "print('The first three frequently used words with their frequency are:')\n",
    "for k,v in final[ :3]:\n",
    "    print(v,k)\n",
    "print('The three less frequently used words with their frequency are:')  \n",
    "for k,v in final[((len(final))-3): ]:                                       # # sorting to get the less frequently used words\n",
    "    print(v,k)\n",
    "print('The total number of words in the file are:',len(final))\n",
    "print('The total number of lines in the file are:',count)\n",
    "print('The total number of characters in the file are:',charactercount)\n",
    "\n",
    "        \n",
    "    \n",
    "    \n"
   ]
  },
  {
   "cell_type": "code",
   "execution_count": null,
   "id": "d427690e",
   "metadata": {},
   "outputs": [],
   "source": []
  }
 ],
 "metadata": {
  "kernelspec": {
   "display_name": "Python 3",
   "language": "python",
   "name": "python3"
  },
  "language_info": {
   "codemirror_mode": {
    "name": "ipython",
    "version": 3
   },
   "file_extension": ".py",
   "mimetype": "text/x-python",
   "name": "python",
   "nbconvert_exporter": "python",
   "pygments_lexer": "ipython3",
   "version": "3.8.8"
  }
 },
 "nbformat": 4,
 "nbformat_minor": 5
}
